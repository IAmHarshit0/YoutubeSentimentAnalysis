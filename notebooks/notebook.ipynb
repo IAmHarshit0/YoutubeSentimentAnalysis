{
 "cells": [
  {
   "cell_type": "markdown",
   "id": "4a737019",
   "metadata": {},
   "source": [
    "# Preprocessing"
   ]
  },
  {
   "cell_type": "code",
   "execution_count": 1,
   "id": "a2c10a9f",
   "metadata": {},
   "outputs": [],
   "source": [
    "import pandas as pd\n",
    "import numpy as np"
   ]
  },
  {
   "cell_type": "code",
   "execution_count": 2,
   "id": "2b8149bf",
   "metadata": {},
   "outputs": [],
   "source": [
    "df = pd.read_csv('movie.csv')"
   ]
  },
  {
   "cell_type": "code",
   "execution_count": 3,
   "id": "0b709e69",
   "metadata": {},
   "outputs": [
    {
     "data": {
      "text/html": [
       "<div>\n",
       "<style scoped>\n",
       "    .dataframe tbody tr th:only-of-type {\n",
       "        vertical-align: middle;\n",
       "    }\n",
       "\n",
       "    .dataframe tbody tr th {\n",
       "        vertical-align: top;\n",
       "    }\n",
       "\n",
       "    .dataframe thead th {\n",
       "        text-align: right;\n",
       "    }\n",
       "</style>\n",
       "<table border=\"1\" class=\"dataframe\">\n",
       "  <thead>\n",
       "    <tr style=\"text-align: right;\">\n",
       "      <th></th>\n",
       "      <th>text</th>\n",
       "      <th>label</th>\n",
       "    </tr>\n",
       "  </thead>\n",
       "  <tbody>\n",
       "    <tr>\n",
       "      <th>0</th>\n",
       "      <td>I grew up (b. 1965) watching and loving the Th...</td>\n",
       "      <td>0</td>\n",
       "    </tr>\n",
       "    <tr>\n",
       "      <th>1</th>\n",
       "      <td>When I put this movie in my DVD player, and sa...</td>\n",
       "      <td>0</td>\n",
       "    </tr>\n",
       "    <tr>\n",
       "      <th>2</th>\n",
       "      <td>Why do people who do not know what a particula...</td>\n",
       "      <td>0</td>\n",
       "    </tr>\n",
       "    <tr>\n",
       "      <th>3</th>\n",
       "      <td>Even though I have great interest in Biblical ...</td>\n",
       "      <td>0</td>\n",
       "    </tr>\n",
       "    <tr>\n",
       "      <th>4</th>\n",
       "      <td>Im a die hard Dads Army fan and nothing will e...</td>\n",
       "      <td>1</td>\n",
       "    </tr>\n",
       "  </tbody>\n",
       "</table>\n",
       "</div>"
      ],
      "text/plain": [
       "                                                text  label\n",
       "0  I grew up (b. 1965) watching and loving the Th...      0\n",
       "1  When I put this movie in my DVD player, and sa...      0\n",
       "2  Why do people who do not know what a particula...      0\n",
       "3  Even though I have great interest in Biblical ...      0\n",
       "4  Im a die hard Dads Army fan and nothing will e...      1"
      ]
     },
     "execution_count": 3,
     "metadata": {},
     "output_type": "execute_result"
    }
   ],
   "source": [
    "df.head()"
   ]
  },
  {
   "cell_type": "code",
   "execution_count": 4,
   "id": "38666185",
   "metadata": {},
   "outputs": [
    {
     "data": {
      "text/plain": [
       "(40000, 2)"
      ]
     },
     "execution_count": 4,
     "metadata": {},
     "output_type": "execute_result"
    }
   ],
   "source": [
    "df.shape"
   ]
  },
  {
   "cell_type": "code",
   "execution_count": 5,
   "id": "3d3e062d",
   "metadata": {},
   "outputs": [
    {
     "data": {
      "text/plain": [
       "array([\"As perhaps one of the few Canadians who did not read the book in high school, I thought I would add my comments. Seeing the movie without knowing the story beforehand in no way detracted from the film. The characters have so many complexities, everyone can relate to them in their own way. The brilliance of the adaptation is that everyone is allowed to project their own perceptions onto the lives of the characters, rather than being spoon-fed an opinion. You can love them or dislike them, and still feel the emotional impact of the movie. Wonderful performances by Ellen Burstyn and Christine Horne really bring the characters to life. I'd highly recommend it.\"],\n",
       "      dtype=object)"
      ]
     },
     "execution_count": 5,
     "metadata": {},
     "output_type": "execute_result"
    }
   ],
   "source": [
    "df.sample()['text'].values"
   ]
  },
  {
   "cell_type": "code",
   "execution_count": 6,
   "id": "5563b4ae",
   "metadata": {},
   "outputs": [
    {
     "name": "stdout",
     "output_type": "stream",
     "text": [
      "<class 'pandas.core.frame.DataFrame'>\n",
      "RangeIndex: 40000 entries, 0 to 39999\n",
      "Data columns (total 2 columns):\n",
      " #   Column  Non-Null Count  Dtype \n",
      "---  ------  --------------  ----- \n",
      " 0   text    40000 non-null  object\n",
      " 1   label   40000 non-null  int64 \n",
      "dtypes: int64(1), object(1)\n",
      "memory usage: 625.1+ KB\n"
     ]
    }
   ],
   "source": [
    "df.info()"
   ]
  },
  {
   "cell_type": "code",
   "execution_count": 7,
   "id": "cb3ec584",
   "metadata": {},
   "outputs": [
    {
     "data": {
      "text/plain": [
       "text     0\n",
       "label    0\n",
       "dtype: int64"
      ]
     },
     "execution_count": 7,
     "metadata": {},
     "output_type": "execute_result"
    }
   ],
   "source": [
    "df.isnull().sum()"
   ]
  },
  {
   "cell_type": "code",
   "execution_count": 8,
   "id": "579687df",
   "metadata": {},
   "outputs": [
    {
     "data": {
      "text/plain": [
       "text     0\n",
       "label    0\n",
       "dtype: int64"
      ]
     },
     "execution_count": 8,
     "metadata": {},
     "output_type": "execute_result"
    }
   ],
   "source": [
    "df.isna().sum()"
   ]
  },
  {
   "cell_type": "code",
   "execution_count": 9,
   "id": "fe4ea44e",
   "metadata": {},
   "outputs": [
    {
     "data": {
      "text/plain": [
       "np.int64(277)"
      ]
     },
     "execution_count": 9,
     "metadata": {},
     "output_type": "execute_result"
    }
   ],
   "source": [
    "df.duplicated().sum()"
   ]
  },
  {
   "cell_type": "code",
   "execution_count": 10,
   "id": "abcab1df",
   "metadata": {},
   "outputs": [
    {
     "data": {
      "text/html": [
       "<div>\n",
       "<style scoped>\n",
       "    .dataframe tbody tr th:only-of-type {\n",
       "        vertical-align: middle;\n",
       "    }\n",
       "\n",
       "    .dataframe tbody tr th {\n",
       "        vertical-align: top;\n",
       "    }\n",
       "\n",
       "    .dataframe thead th {\n",
       "        text-align: right;\n",
       "    }\n",
       "</style>\n",
       "<table border=\"1\" class=\"dataframe\">\n",
       "  <thead>\n",
       "    <tr style=\"text-align: right;\">\n",
       "      <th></th>\n",
       "      <th>text</th>\n",
       "      <th>label</th>\n",
       "    </tr>\n",
       "  </thead>\n",
       "  <tbody>\n",
       "    <tr>\n",
       "      <th>2164</th>\n",
       "      <td>I find it rather useless to comment on this \"m...</td>\n",
       "      <td>0</td>\n",
       "    </tr>\n",
       "    <tr>\n",
       "      <th>3236</th>\n",
       "      <td>An absolutely atrocious adaptation of the wond...</td>\n",
       "      <td>0</td>\n",
       "    </tr>\n",
       "    <tr>\n",
       "      <th>3428</th>\n",
       "      <td>When I first saw this film it was not an impre...</td>\n",
       "      <td>0</td>\n",
       "    </tr>\n",
       "    <tr>\n",
       "      <th>3652</th>\n",
       "      <td>Before I watched this tv movie I did not know ...</td>\n",
       "      <td>1</td>\n",
       "    </tr>\n",
       "    <tr>\n",
       "      <th>3787</th>\n",
       "      <td>What a clunker!&lt;br /&gt;&lt;br /&gt;It MUST have been m...</td>\n",
       "      <td>0</td>\n",
       "    </tr>\n",
       "    <tr>\n",
       "      <th>...</th>\n",
       "      <td>...</td>\n",
       "      <td>...</td>\n",
       "    </tr>\n",
       "    <tr>\n",
       "      <th>39229</th>\n",
       "      <td>I Enjoyed Watching This Well Acted Movie Very ...</td>\n",
       "      <td>1</td>\n",
       "    </tr>\n",
       "    <tr>\n",
       "      <th>39246</th>\n",
       "      <td>You do realize that you've been watching the E...</td>\n",
       "      <td>0</td>\n",
       "    </tr>\n",
       "    <tr>\n",
       "      <th>39508</th>\n",
       "      <td>(Spoilers)&lt;br /&gt;&lt;br /&gt;Oh sure it's based on Mo...</td>\n",
       "      <td>0</td>\n",
       "    </tr>\n",
       "    <tr>\n",
       "      <th>39681</th>\n",
       "      <td>It's been a long time since I last saw a movie...</td>\n",
       "      <td>0</td>\n",
       "    </tr>\n",
       "    <tr>\n",
       "      <th>39746</th>\n",
       "      <td>Goodnight, Mister Tom begins in an impossibly ...</td>\n",
       "      <td>0</td>\n",
       "    </tr>\n",
       "  </tbody>\n",
       "</table>\n",
       "<p>277 rows × 2 columns</p>\n",
       "</div>"
      ],
      "text/plain": [
       "                                                    text  label\n",
       "2164   I find it rather useless to comment on this \"m...      0\n",
       "3236   An absolutely atrocious adaptation of the wond...      0\n",
       "3428   When I first saw this film it was not an impre...      0\n",
       "3652   Before I watched this tv movie I did not know ...      1\n",
       "3787   What a clunker!<br /><br />It MUST have been m...      0\n",
       "...                                                  ...    ...\n",
       "39229  I Enjoyed Watching This Well Acted Movie Very ...      1\n",
       "39246  You do realize that you've been watching the E...      0\n",
       "39508  (Spoilers)<br /><br />Oh sure it's based on Mo...      0\n",
       "39681  It's been a long time since I last saw a movie...      0\n",
       "39746  Goodnight, Mister Tom begins in an impossibly ...      0\n",
       "\n",
       "[277 rows x 2 columns]"
      ]
     },
     "execution_count": 10,
     "metadata": {},
     "output_type": "execute_result"
    }
   ],
   "source": [
    "df[df.duplicated()]"
   ]
  },
  {
   "cell_type": "code",
   "execution_count": 11,
   "id": "a762a01e",
   "metadata": {},
   "outputs": [],
   "source": [
    "df.drop_duplicates(inplace=True)"
   ]
  },
  {
   "cell_type": "code",
   "execution_count": 12,
   "id": "c8bc926a",
   "metadata": {},
   "outputs": [
    {
     "data": {
      "text/plain": [
       "np.int64(0)"
      ]
     },
     "execution_count": 12,
     "metadata": {},
     "output_type": "execute_result"
    }
   ],
   "source": [
    "df.duplicated().sum()"
   ]
  },
  {
   "cell_type": "code",
   "execution_count": 13,
   "id": "42fdd142",
   "metadata": {},
   "outputs": [
    {
     "data": {
      "text/html": [
       "<div>\n",
       "<style scoped>\n",
       "    .dataframe tbody tr th:only-of-type {\n",
       "        vertical-align: middle;\n",
       "    }\n",
       "\n",
       "    .dataframe tbody tr th {\n",
       "        vertical-align: top;\n",
       "    }\n",
       "\n",
       "    .dataframe thead th {\n",
       "        text-align: right;\n",
       "    }\n",
       "</style>\n",
       "<table border=\"1\" class=\"dataframe\">\n",
       "  <thead>\n",
       "    <tr style=\"text-align: right;\">\n",
       "      <th></th>\n",
       "      <th>text</th>\n",
       "      <th>label</th>\n",
       "    </tr>\n",
       "  </thead>\n",
       "  <tbody>\n",
       "  </tbody>\n",
       "</table>\n",
       "</div>"
      ],
      "text/plain": [
       "Empty DataFrame\n",
       "Columns: [text, label]\n",
       "Index: []"
      ]
     },
     "execution_count": 13,
     "metadata": {},
     "output_type": "execute_result"
    }
   ],
   "source": [
    "df[(df['text'].str.strip() == \"\")]"
   ]
  },
  {
   "cell_type": "code",
   "execution_count": 14,
   "id": "0ea755d4",
   "metadata": {},
   "outputs": [],
   "source": [
    "df['text'] = df['text'].str.lower()"
   ]
  },
  {
   "cell_type": "code",
   "execution_count": 15,
   "id": "1d619501",
   "metadata": {},
   "outputs": [
    {
     "data": {
      "text/html": [
       "<div>\n",
       "<style scoped>\n",
       "    .dataframe tbody tr th:only-of-type {\n",
       "        vertical-align: middle;\n",
       "    }\n",
       "\n",
       "    .dataframe tbody tr th {\n",
       "        vertical-align: top;\n",
       "    }\n",
       "\n",
       "    .dataframe thead th {\n",
       "        text-align: right;\n",
       "    }\n",
       "</style>\n",
       "<table border=\"1\" class=\"dataframe\">\n",
       "  <thead>\n",
       "    <tr style=\"text-align: right;\">\n",
       "      <th></th>\n",
       "      <th>text</th>\n",
       "      <th>label</th>\n",
       "    </tr>\n",
       "  </thead>\n",
       "  <tbody>\n",
       "    <tr>\n",
       "      <th>0</th>\n",
       "      <td>i grew up (b. 1965) watching and loving the th...</td>\n",
       "      <td>0</td>\n",
       "    </tr>\n",
       "    <tr>\n",
       "      <th>1</th>\n",
       "      <td>when i put this movie in my dvd player, and sa...</td>\n",
       "      <td>0</td>\n",
       "    </tr>\n",
       "    <tr>\n",
       "      <th>2</th>\n",
       "      <td>why do people who do not know what a particula...</td>\n",
       "      <td>0</td>\n",
       "    </tr>\n",
       "    <tr>\n",
       "      <th>3</th>\n",
       "      <td>even though i have great interest in biblical ...</td>\n",
       "      <td>0</td>\n",
       "    </tr>\n",
       "    <tr>\n",
       "      <th>4</th>\n",
       "      <td>im a die hard dads army fan and nothing will e...</td>\n",
       "      <td>1</td>\n",
       "    </tr>\n",
       "  </tbody>\n",
       "</table>\n",
       "</div>"
      ],
      "text/plain": [
       "                                                text  label\n",
       "0  i grew up (b. 1965) watching and loving the th...      0\n",
       "1  when i put this movie in my dvd player, and sa...      0\n",
       "2  why do people who do not know what a particula...      0\n",
       "3  even though i have great interest in biblical ...      0\n",
       "4  im a die hard dads army fan and nothing will e...      1"
      ]
     },
     "execution_count": 15,
     "metadata": {},
     "output_type": "execute_result"
    }
   ],
   "source": [
    "df.head()"
   ]
  },
  {
   "cell_type": "code",
   "execution_count": 16,
   "id": "4bf1017a",
   "metadata": {},
   "outputs": [
    {
     "data": {
      "text/html": [
       "<div>\n",
       "<style scoped>\n",
       "    .dataframe tbody tr th:only-of-type {\n",
       "        vertical-align: middle;\n",
       "    }\n",
       "\n",
       "    .dataframe tbody tr th {\n",
       "        vertical-align: top;\n",
       "    }\n",
       "\n",
       "    .dataframe thead th {\n",
       "        text-align: right;\n",
       "    }\n",
       "</style>\n",
       "<table border=\"1\" class=\"dataframe\">\n",
       "  <thead>\n",
       "    <tr style=\"text-align: right;\">\n",
       "      <th></th>\n",
       "      <th>text</th>\n",
       "      <th>label</th>\n",
       "    </tr>\n",
       "  </thead>\n",
       "  <tbody>\n",
       "  </tbody>\n",
       "</table>\n",
       "</div>"
      ],
      "text/plain": [
       "Empty DataFrame\n",
       "Columns: [text, label]\n",
       "Index: []"
      ]
     },
     "execution_count": 16,
     "metadata": {},
     "output_type": "execute_result"
    }
   ],
   "source": [
    "df[df['text'].apply(lambda x: x.endswith(' ') or x.startswith(' '))]"
   ]
  },
  {
   "cell_type": "code",
   "execution_count": 17,
   "id": "4353b37a",
   "metadata": {},
   "outputs": [
    {
     "name": "stderr",
     "output_type": "stream",
     "text": [
      "C:\\Users\\iamha\\AppData\\Local\\Temp\\ipykernel_4004\\3275997062.py:2: UserWarning: This pattern is interpreted as a regular expression, and has match groups. To actually get the groups, use str.extract.\n",
      "  text_url = df[df['text'].str.contains(url, regex=True)]\n"
     ]
    }
   ],
   "source": [
    "url = r'(https?://\\S+|www\\.\\S+)'\n",
    "text_url = df[df['text'].str.contains(url, regex=True)]"
   ]
  },
  {
   "cell_type": "code",
   "execution_count": 18,
   "id": "7e7f404a",
   "metadata": {},
   "outputs": [
    {
     "data": {
      "text/html": [
       "<div>\n",
       "<style scoped>\n",
       "    .dataframe tbody tr th:only-of-type {\n",
       "        vertical-align: middle;\n",
       "    }\n",
       "\n",
       "    .dataframe tbody tr th {\n",
       "        vertical-align: top;\n",
       "    }\n",
       "\n",
       "    .dataframe thead th {\n",
       "        text-align: right;\n",
       "    }\n",
       "</style>\n",
       "<table border=\"1\" class=\"dataframe\">\n",
       "  <thead>\n",
       "    <tr style=\"text-align: right;\">\n",
       "      <th></th>\n",
       "      <th>text</th>\n",
       "      <th>label</th>\n",
       "    </tr>\n",
       "  </thead>\n",
       "  <tbody>\n",
       "    <tr>\n",
       "      <th>205</th>\n",
       "      <td>i just saw this movie on hbo, and it was reall...</td>\n",
       "      <td>1</td>\n",
       "    </tr>\n",
       "    <tr>\n",
       "      <th>661</th>\n",
       "      <td>inarguably one of the most interesting filmmak...</td>\n",
       "      <td>1</td>\n",
       "    </tr>\n",
       "    <tr>\n",
       "      <th>1049</th>\n",
       "      <td>i really love this movie , i saw it for the fi...</td>\n",
       "      <td>1</td>\n",
       "    </tr>\n",
       "    <tr>\n",
       "      <th>1241</th>\n",
       "      <td>call me stupid, but i absolutely loved the 200...</td>\n",
       "      <td>1</td>\n",
       "    </tr>\n",
       "    <tr>\n",
       "      <th>1786</th>\n",
       "      <td>i'm a big fan of the first critters movie. the...</td>\n",
       "      <td>0</td>\n",
       "    </tr>\n",
       "  </tbody>\n",
       "</table>\n",
       "</div>"
      ],
      "text/plain": [
       "                                                   text  label\n",
       "205   i just saw this movie on hbo, and it was reall...      1\n",
       "661   inarguably one of the most interesting filmmak...      1\n",
       "1049  i really love this movie , i saw it for the fi...      1\n",
       "1241  call me stupid, but i absolutely loved the 200...      1\n",
       "1786  i'm a big fan of the first critters movie. the...      0"
      ]
     },
     "execution_count": 18,
     "metadata": {},
     "output_type": "execute_result"
    }
   ],
   "source": [
    "text_url.head()"
   ]
  },
  {
   "cell_type": "code",
   "execution_count": 19,
   "id": "67dac722",
   "metadata": {},
   "outputs": [
    {
     "data": {
      "text/plain": [
       "array(['inarguably one of the most interesting filmmakers of the last 50 years, werner herzog has been pushing the boundaries of cinema perhaps more so than any other commercial filmmaker. i\\'ve been acquainted with herzog for a few decades now and i\\'ve never not been impressed by both the man and his work. last year i went to see rescue dawn and was somewhat surprised at how relatively mainstream the film was, yet couldn\\'t help but imagine herzog taking his actors and crew into the actual jungle to not only make the film, but to live it. no other filmmaker is as crazed about the purity of the film-making process and the subsequent lore from such productions as fitzcarraldo has been forged into cinematic legend.<br /><br />today i sat down to fata morgana, a 1969 herzog film that could be described as an allegorical filmic postcard. without researching the actual locations, i\\'m assuming it was shot somewhere in africa, both coastal and desert, a region that could have once been the cradle of infant man, infant civilization, infant life on earth. it is these origins, the biblical notion of the garden of eden and the apocalypse that herzog is concerned with, as is voiced by the narration dispensed throughout the 79 minute run time.<br /><br />watching fm i couldn\\'t help but feel i was a passenger on a profound journey. in the opening sequence, the title is translated as \"mirage\" and herzog juxtaposes this translation with multiple repetitions of commercial jets landing on an airstrip. these images are perverted, their 3-dimensionality crushed flat by a long lens, piling layers of exhaust, heat waves and light aberrations all on top of one another. the effect left me to conclude: things are not as they seem.<br /><br />fm is divided into 3 very distinct chapters: 1) creation, 2) paradise and 3) the golden age. chapter one, opens with countless, languid images, where bleak, barren landscapes scroll by, dead animals rot, broken shells of crashed airplanes and abandoned cars slowly disintegrate in the desert sun. the people populating this inhospitable landscape are ragged, unsmiling and apparent prisoners of the desert. the narration talks of a time before life, a time where the canvas of earth was blank and all that existed were the heavens. while the narration hearkens to a simpler, purer era, a portrait of a young boy holding a fox-like animal by its throat evokes a chilling depiction of man\\'s cruel, ruthless attempt to enforce a dominion over nature.<br /><br />in the next chapter we are introduced to more of the same, yet the images and people are more animated and seem infused with a modicum of life and vitality. we listen to a goggled biologist talk about the difficultly a monitor lizard has hunting for prey in such a lifeless environment. as he holds the squirming monitor, its tongue flicking at flies, he also describes how difficult it to capture these creatures in the searing 140 degree heat. the parallel is duly noted and herzog continues to explore this concept through repeated, candid portraits of individuals battered by the sun, the desert and the laborious efforts required to exist in this harsh realm. he also pushes forward the theme that if not in control, man asserts his control over his environment and not always in the most pleasant of ways.<br /><br />the last chapter takes us out of the desert\\'s blast furnace and into the more familiar herzog territory populated by eccentrics and absurd behavior. no one seems to have a more effective symbiotic relationship with the oddballs of the world than herzog -- possibly this is where he feels most at home. much like errol morris, herzog chooses to place his camera in as seemingly objective a position as he can before he lets the film roll. the subsequent flirtation herzog has with his subject is the result of him being able to continue shooting well beyond the point when most directors would have yelled cut. as morris does, this extended roll pushes past the \"on\" moment the subjects feel obliged to offer and through their discomfort of being pushed into overtime, their facade gives way to something real. the most humorous portrait in this chapter is of the 2 person band playing an odd, polka-like song that herzog recycles throughout this chapter. the drummer of the band wears the same goggles as the biologist, as does another guy doing a magic trick, begging the question: what\\'s with the goggles? they definitely add some levity to the film, but one has to wonder if they hold any deeper meaning or significance, or is this just another example of herzog\\'s playfullness.<br /><br />the narration aside, herzog utilizes folk and blues music as the experimental documentary\\'s soundtrack. leonard cohen grabs the most screen time, two of his beautifully melancholic songs \"so long marianne\" and \"suzanne.\" perfectly accompany the scrolling landscapes, adding to the convincing feel that we are truly along for the ride. by the end of the journey, herzog comes back to one of the many shots that recur throughout the film: the distant framing of a lone vehicle traversing the endless desert engulfed by a water mirage that fills the horizon. despite the overall bleakness of fm, the crescendo of the film and the mirage motif leave you with a hopeful spirit, belief that against all odds, life will persevere and possibly even flourish.<br /><br />having finished writing this post, i referenced fm to discover that herzog shot it in saharan cameroon only weeks after a bloody coup. true to his legend, herzog and his crew were arrested, beaten and imprisoned. while imprisoned, herzog fell ill with schistosomiasis, a blood parasite. it\\'s truly hard not to love such a hypnotic and austere film as fata morgana; knowing the filmmaker was willing to die to get it made only makes you respect it all the more.<br /><br />http://eattheblinds.blogspot.com/'],\n",
       "      dtype=object)"
      ]
     },
     "execution_count": 19,
     "metadata": {},
     "output_type": "execute_result"
    }
   ],
   "source": [
    "text_url.sample()['text'].values"
   ]
  },
  {
   "cell_type": "code",
   "execution_count": 20,
   "id": "d2236899",
   "metadata": {},
   "outputs": [
    {
     "data": {
      "text/plain": [
       "(149, 2)"
      ]
     },
     "execution_count": 20,
     "metadata": {},
     "output_type": "execute_result"
    }
   ],
   "source": [
    "text_url.shape"
   ]
  },
  {
   "cell_type": "code",
   "execution_count": 21,
   "id": "c5bbeb4c",
   "metadata": {},
   "outputs": [
    {
     "name": "stderr",
     "output_type": "stream",
     "text": [
      "C:\\Users\\iamha\\AppData\\Local\\Temp\\ipykernel_4004\\456587084.py:1: UserWarning: This pattern is interpreted as a regular expression, and has match groups. To actually get the groups, use str.extract.\n",
      "  df = df[~df['text'].str.contains(url, regex=True)]\n"
     ]
    }
   ],
   "source": [
    "df = df[~df['text'].str.contains(url, regex=True)]"
   ]
  },
  {
   "cell_type": "code",
   "execution_count": 22,
   "id": "41be4ff4",
   "metadata": {},
   "outputs": [
    {
     "data": {
      "text/plain": [
       "(39574, 2)"
      ]
     },
     "execution_count": 22,
     "metadata": {},
     "output_type": "execute_result"
    }
   ],
   "source": [
    "df.shape"
   ]
  },
  {
   "cell_type": "code",
   "execution_count": 23,
   "id": "282347ba",
   "metadata": {},
   "outputs": [
    {
     "data": {
      "text/plain": [
       "(0, 2)"
      ]
     },
     "execution_count": 23,
     "metadata": {},
     "output_type": "execute_result"
    }
   ],
   "source": [
    "text_new = df[df['text'].str.contains('\\n')]\n",
    "text_new.shape"
   ]
  },
  {
   "cell_type": "code",
   "execution_count": 24,
   "id": "c01819df",
   "metadata": {},
   "outputs": [
    {
     "data": {
      "text/plain": [
       "(23089, 2)"
      ]
     },
     "execution_count": 24,
     "metadata": {},
     "output_type": "execute_result"
    }
   ],
   "source": [
    "text_br = df[df['text'].str.contains('<br />')]\n",
    "text_br.shape"
   ]
  },
  {
   "cell_type": "code",
   "execution_count": 25,
   "id": "0ad20098",
   "metadata": {},
   "outputs": [],
   "source": [
    "df['text'] = df['text'].str.replace('<br />', ' ', regex=True)"
   ]
  },
  {
   "cell_type": "code",
   "execution_count": 26,
   "id": "2af8b0ad",
   "metadata": {},
   "outputs": [
    {
     "data": {
      "text/plain": [
       "(0, 2)"
      ]
     },
     "execution_count": 26,
     "metadata": {},
     "output_type": "execute_result"
    }
   ],
   "source": [
    "text_br_rem = df[df['text'].str.contains('<br />')]\n",
    "text_br_rem.shape"
   ]
  },
  {
   "cell_type": "markdown",
   "id": "fbb1bac1",
   "metadata": {},
   "source": [
    "# EDA"
   ]
  },
  {
   "cell_type": "code",
   "execution_count": 27,
   "id": "a3fb3554",
   "metadata": {},
   "outputs": [],
   "source": [
    "import seaborn as sns\n",
    "import matplotlib.pyplot as plt"
   ]
  },
  {
   "cell_type": "code",
   "execution_count": 28,
   "id": "3b031f63",
   "metadata": {},
   "outputs": [
    {
     "data": {
      "text/plain": [
       "<Axes: xlabel='label', ylabel='count'>"
      ]
     },
     "execution_count": 28,
     "metadata": {},
     "output_type": "execute_result"
    },
    {
     "data": {
      "image/png": "[encoded data removed]",
      "text/plain": [
       "<Figure size 640x480 with 1 Axes>"
      ]
     },
     "metadata": {},
     "output_type": "display_data"
    }
   ],
   "source": [
    "sns.countplot(data=df, x='label')"
   ]
  },
  {
   "cell_type": "code",
   "execution_count": 29,
   "id": "3b8b99d6",
   "metadata": {},
   "outputs": [
    {
     "data": {
      "text/plain": [
       "label\n",
       "1    50.09\n",
       "0    49.91\n",
       "Name: proportion, dtype: float64"
      ]
     },
     "execution_count": 29,
     "metadata": {},
     "output_type": "execute_result"
    }
   ],
   "source": [
    "df['label'].value_counts(normalize=True).mul(100).round(2)"
   ]
  },
  {
   "cell_type": "code",
   "execution_count": 30,
   "id": "f119b99e",
   "metadata": {},
   "outputs": [],
   "source": [
    "df['count'] = df['text'].apply(lambda x: len(x.split()))"
   ]
  },
  {
   "cell_type": "code",
   "execution_count": 31,
   "id": "a16ffed0",
   "metadata": {},
   "outputs": [
    {
     "data": {
      "text/plain": [
       "count    39574.000000\n",
       "mean       228.911988\n",
       "std        169.327034\n",
       "min          4.000000\n",
       "25%        125.000000\n",
       "50%        172.000000\n",
       "75%        278.000000\n",
       "max       2459.000000\n",
       "Name: count, dtype: float64"
      ]
     },
     "execution_count": 31,
     "metadata": {},
     "output_type": "execute_result"
    }
   ],
   "source": [
    "df['count'].describe()"
   ]
  },
  {
   "cell_type": "code",
   "execution_count": 32,
   "id": "d13d3347",
   "metadata": {},
   "outputs": [
    {
     "data": {
      "text/plain": [
       "<seaborn.axisgrid.FacetGrid at 0x1de291b4410>"
      ]
     },
     "execution_count": 32,
     "metadata": {},
     "output_type": "execute_result"
    },
    {
     "data": {
      "image/png": "[encoded data removed]",
      "text/plain": [
       "<Figure size 500x500 with 1 Axes>"
      ]
     },
     "metadata": {},
     "output_type": "display_data"
    }
   ],
   "source": [
    "sns.displot(df['count'])"
   ]
  },
  {
   "cell_type": "code",
   "execution_count": 33,
   "id": "9a25829e",
   "metadata": {},
   "outputs": [
    {
     "data": {
      "text/plain": [
       "<Axes: ylabel='count'>"
      ]
     },
     "execution_count": 33,
     "metadata": {},
     "output_type": "execute_result"
    },
    {
     "data": {
      "image/png": "[encoded data removed]",
      "text/plain": [
       "<Figure size 640x480 with 1 Axes>"
      ]
     },
     "metadata": {},
     "output_type": "display_data"
    }
   ],
   "source": [
    "sns.boxplot(data=df['count'])"
   ]
  },
  {
   "cell_type": "code",
   "execution_count": 34,
   "id": "7fca50aa",
   "metadata": {},
   "outputs": [
    {
     "data": {
      "text/plain": [
       "<Axes: xlabel='label', ylabel='count'>"
      ]
     },
     "execution_count": 34,
     "metadata": {},
     "output_type": "execute_result"
    },
    {
     "data": {
      "image/png": "[encoded data removed]",
      "text/plain": [
       "<Figure size 640x480 with 1 Axes>"
      ]
     },
     "metadata": {},
     "output_type": "display_data"
    }
   ],
   "source": [
    "sns.boxplot(data=df, x='label', y='count')"
   ]
  },
  {
   "cell_type": "code",
   "execution_count": 35,
   "id": "1cebe12c",
   "metadata": {},
   "outputs": [
    {
     "data": {
      "text/plain": [
       "<Axes: xlabel='label', ylabel='count'>"
      ]
     },
     "execution_count": 35,
     "metadata": {},
     "output_type": "execute_result"
    },
    {
     "data": {
      "image/png": "[encoded data removed]",
      "text/plain": [
       "<Figure size 640x480 with 1 Axes>"
      ]
     },
     "metadata": {},
     "output_type": "display_data"
    }
   ],
   "source": [
    "sns.barplot(data=df, x='label', y='count', estimator='median')"
   ]
  },
  {
   "cell_type": "code",
   "execution_count": 36,
   "id": "ffcb760b",
   "metadata": {},
   "outputs": [],
   "source": [
    "from nltk.corpus import stopwords\n",
    "from string import punctuation\n",
    "\n",
    "stopword = stopwords.words('english')\n",
    "words = list(punctuation) + stopword\n",
    "\n",
    "df['num_stop'] = df['text'].apply(lambda x: len([word for word in x.split() if word in words]))"
   ]
  },
  {
   "cell_type": "code",
   "execution_count": 37,
   "id": "c3972c42",
   "metadata": {},
   "outputs": [
    {
     "data": {
      "text/html": [
       "<div>\n",
       "<style scoped>\n",
       "    .dataframe tbody tr th:only-of-type {\n",
       "        vertical-align: middle;\n",
       "    }\n",
       "\n",
       "    .dataframe tbody tr th {\n",
       "        vertical-align: top;\n",
       "    }\n",
       "\n",
       "    .dataframe thead th {\n",
       "        text-align: right;\n",
       "    }\n",
       "</style>\n",
       "<table border=\"1\" class=\"dataframe\">\n",
       "  <thead>\n",
       "    <tr style=\"text-align: right;\">\n",
       "      <th></th>\n",
       "      <th>text</th>\n",
       "      <th>label</th>\n",
       "      <th>count</th>\n",
       "      <th>num_stop</th>\n",
       "    </tr>\n",
       "  </thead>\n",
       "  <tbody>\n",
       "    <tr>\n",
       "      <th>2200</th>\n",
       "      <td>there's a major difference between releasing a...</td>\n",
       "      <td>0</td>\n",
       "      <td>191</td>\n",
       "      <td>82</td>\n",
       "    </tr>\n",
       "    <tr>\n",
       "      <th>28464</th>\n",
       "      <td>this was so poor i had to turn it off in the e...</td>\n",
       "      <td>0</td>\n",
       "      <td>63</td>\n",
       "      <td>36</td>\n",
       "    </tr>\n",
       "    <tr>\n",
       "      <th>10676</th>\n",
       "      <td>almost no information is available about this ...</td>\n",
       "      <td>1</td>\n",
       "      <td>143</td>\n",
       "      <td>67</td>\n",
       "    </tr>\n",
       "    <tr>\n",
       "      <th>13466</th>\n",
       "      <td>well, what are the odds! at the exact right mo...</td>\n",
       "      <td>0</td>\n",
       "      <td>516</td>\n",
       "      <td>236</td>\n",
       "    </tr>\n",
       "    <tr>\n",
       "      <th>33384</th>\n",
       "      <td>after a man turns up dead, a soldier becomes t...</td>\n",
       "      <td>1</td>\n",
       "      <td>110</td>\n",
       "      <td>45</td>\n",
       "    </tr>\n",
       "  </tbody>\n",
       "</table>\n",
       "</div>"
      ],
      "text/plain": [
       "                                                    text  label  count  \\\n",
       "2200   there's a major difference between releasing a...      0    191   \n",
       "28464  this was so poor i had to turn it off in the e...      0     63   \n",
       "10676  almost no information is available about this ...      1    143   \n",
       "13466  well, what are the odds! at the exact right mo...      0    516   \n",
       "33384  after a man turns up dead, a soldier becomes t...      1    110   \n",
       "\n",
       "       num_stop  \n",
       "2200         82  \n",
       "28464        36  \n",
       "10676        67  \n",
       "13466       236  \n",
       "33384        45  "
      ]
     },
     "execution_count": 37,
     "metadata": {},
     "output_type": "execute_result"
    }
   ],
   "source": [
    "df.sample(5)"
   ]
  },
  {
   "cell_type": "code",
   "execution_count": 38,
   "id": "5f35abc8",
   "metadata": {},
   "outputs": [
    {
     "data": {
      "text/plain": [
       "<Axes: xlabel='num_stop', ylabel='Count'>"
      ]
     },
     "execution_count": 38,
     "metadata": {},
     "output_type": "execute_result"
    },
    {
     "data": {
      "image/png": "[encoded data removed]",
      "text/plain": [
       "<Figure size 640x480 with 1 Axes>"
      ]
     },
     "metadata": {},
     "output_type": "display_data"
    }
   ],
   "source": [
    "sns.histplot(df['num_stop'])"
   ]
  },
  {
   "cell_type": "code",
   "execution_count": 39,
   "id": "605ed7de",
   "metadata": {},
   "outputs": [],
   "source": [
    "from collections import Counter"
   ]
  },
  {
   "cell_type": "code",
   "execution_count": 40,
   "id": "878fcef2",
   "metadata": {},
   "outputs": [],
   "source": [
    "all_stop = [word for comment in df['text'] for word in comment.split() if word in words]"
   ]
  },
  {
   "cell_type": "code",
   "execution_count": 41,
   "id": "4486ff09",
   "metadata": {},
   "outputs": [],
   "source": [
    "common_stop = Counter(all_stop).most_common(10)"
   ]
  },
  {
   "cell_type": "code",
   "execution_count": 42,
   "id": "3248d6ac",
   "metadata": {},
   "outputs": [],
   "source": [
    "top_10 = pd.DataFrame(common_stop, columns=['stop_word', 'count'])"
   ]
  },
  {
   "cell_type": "code",
   "execution_count": 43,
   "id": "cd7729bc",
   "metadata": {},
   "outputs": [
    {
     "data": {
      "text/plain": [
       "<Axes: xlabel='count', ylabel='stop_word'>"
      ]
     },
     "execution_count": 43,
     "metadata": {},
     "output_type": "execute_result"
    },
    {
     "data": {
      "image/png": "[encoded data removed]",
      "text/plain": [
       "<Figure size 640x480 with 1 Axes>"
      ]
     },
     "metadata": {},
     "output_type": "display_data"
    }
   ],
   "source": [
    "sns.barplot(data=top_10, x='count', y='stop_word')"
   ]
  },
  {
   "cell_type": "code",
   "execution_count": 44,
   "id": "a7a596fd",
   "metadata": {},
   "outputs": [],
   "source": [
    "df['chars'] = df['text'].apply(len)"
   ]
  },
  {
   "cell_type": "code",
   "execution_count": 45,
   "id": "384d699c",
   "metadata": {},
   "outputs": [
    {
     "data": {
      "text/html": [
       "<div>\n",
       "<style scoped>\n",
       "    .dataframe tbody tr th:only-of-type {\n",
       "        vertical-align: middle;\n",
       "    }\n",
       "\n",
       "    .dataframe tbody tr th {\n",
       "        vertical-align: top;\n",
       "    }\n",
       "\n",
       "    .dataframe thead th {\n",
       "        text-align: right;\n",
       "    }\n",
       "</style>\n",
       "<table border=\"1\" class=\"dataframe\">\n",
       "  <thead>\n",
       "    <tr style=\"text-align: right;\">\n",
       "      <th></th>\n",
       "      <th>text</th>\n",
       "      <th>label</th>\n",
       "      <th>count</th>\n",
       "      <th>num_stop</th>\n",
       "      <th>chars</th>\n",
       "    </tr>\n",
       "  </thead>\n",
       "  <tbody>\n",
       "    <tr>\n",
       "      <th>0</th>\n",
       "      <td>i grew up (b. 1965) watching and loving the th...</td>\n",
       "      <td>0</td>\n",
       "      <td>151</td>\n",
       "      <td>64</td>\n",
       "      <td>874</td>\n",
       "    </tr>\n",
       "    <tr>\n",
       "      <th>1</th>\n",
       "      <td>when i put this movie in my dvd player, and sa...</td>\n",
       "      <td>0</td>\n",
       "      <td>324</td>\n",
       "      <td>166</td>\n",
       "      <td>1791</td>\n",
       "    </tr>\n",
       "    <tr>\n",
       "      <th>2</th>\n",
       "      <td>why do people who do not know what a particula...</td>\n",
       "      <td>0</td>\n",
       "      <td>184</td>\n",
       "      <td>87</td>\n",
       "      <td>983</td>\n",
       "    </tr>\n",
       "    <tr>\n",
       "      <th>3</th>\n",
       "      <td>even though i have great interest in biblical ...</td>\n",
       "      <td>0</td>\n",
       "      <td>69</td>\n",
       "      <td>36</td>\n",
       "      <td>351</td>\n",
       "    </tr>\n",
       "    <tr>\n",
       "      <th>4</th>\n",
       "      <td>im a die hard dads army fan and nothing will e...</td>\n",
       "      <td>1</td>\n",
       "      <td>173</td>\n",
       "      <td>71</td>\n",
       "      <td>953</td>\n",
       "    </tr>\n",
       "  </tbody>\n",
       "</table>\n",
       "</div>"
      ],
      "text/plain": [
       "                                                text  label  count  num_stop  \\\n",
       "0  i grew up (b. 1965) watching and loving the th...      0    151        64   \n",
       "1  when i put this movie in my dvd player, and sa...      0    324       166   \n",
       "2  why do people who do not know what a particula...      0    184        87   \n",
       "3  even though i have great interest in biblical ...      0     69        36   \n",
       "4  im a die hard dads army fan and nothing will e...      1    173        71   \n",
       "\n",
       "   chars  \n",
       "0    874  \n",
       "1   1791  \n",
       "2    983  \n",
       "3    351  \n",
       "4    953  "
      ]
     },
     "execution_count": 45,
     "metadata": {},
     "output_type": "execute_result"
    }
   ],
   "source": [
    "df.head()"
   ]
  },
  {
   "cell_type": "code",
   "execution_count": 46,
   "id": "482ee621",
   "metadata": {},
   "outputs": [
    {
     "data": {
      "text/plain": [
       "count    39574.000000\n",
       "mean      1289.109971\n",
       "std        971.752293\n",
       "min         32.000000\n",
       "25%        690.000000\n",
       "50%        958.000000\n",
       "75%       1569.000000\n",
       "max      13604.000000\n",
       "Name: chars, dtype: float64"
      ]
     },
     "execution_count": 46,
     "metadata": {},
     "output_type": "execute_result"
    }
   ],
   "source": [
    "df['chars'].describe()"
   ]
  },
  {
   "cell_type": "code",
   "execution_count": 47,
   "id": "9fce25d7",
   "metadata": {},
   "outputs": [],
   "source": [
    "all_text = ' '.join(df['text'])"
   ]
  },
  {
   "cell_type": "code",
   "execution_count": 48,
   "id": "a3ad6871",
   "metadata": {},
   "outputs": [],
   "source": [
    "char_freq = Counter(all_text)"
   ]
  },
  {
   "cell_type": "code",
   "execution_count": 49,
   "id": "b1cb6e98",
   "metadata": {},
   "outputs": [],
   "source": [
    "char_df = pd.DataFrame(char_freq.items(), columns=['char', 'freq']).sort_values(by='freq')"
   ]
  },
  {
   "cell_type": "code",
   "execution_count": 50,
   "id": "de7ca84a",
   "metadata": {},
   "outputs": [
    {
     "data": {
      "text/plain": [
       "array(['¾', 'ı', '\\x9a', 'º', 'ż', 'ō', '¦', '¢', 'ר', 'י', '″', 'ג', 'ל',\n",
       "       'כ', 'א', 'ğ', '³', 'מ', 'ו', 'ן', '¿', '，', '₤', '®', 'þ', '★',\n",
       "       '\\x8d', '§', '¤', 'ò', '°', 'ì', 'õ', '\\xad', '、', 'ù', 'û',\n",
       "       '\\uf0b7', '\\x80', '¡', 'î', 'ð', 'ß', 'æ', '…', 'ø', '‘', '\\x95',\n",
       "       'ý', '\\x8e', '\\x9e', 'ú', 'å', 'ë', 'ê', '\\x84', '\\\\', '½', '·',\n",
       "       'â', '¨', '»', '«', 'ã', 'ï', '”', '\\xa0', '“', '|', 'ô', 'ç', 'ñ',\n",
       "       'à', '\\t', '^', 'ä', 'í', 'ü', 'ó', '£', '\\x91', '<', '–', '@',\n",
       "       'ö', 'è', '}', '{', '~', 'á', '[', ']', '’', '>', '´', '\\x97', '+',\n",
       "       '#', '=', '%', '_', '\\x85', '$', '`', '\\x96', 'é', '6', '&', '7',\n",
       "       '4', '8', '5', '3', '/', ';', '*', '2', '9', ':', '?', '1', '0',\n",
       "       'q', 'z', '!', '(', ')', 'x', 'j', '\"', '-', \"'\", 'k', ',', 'v',\n",
       "       '.', 'b', 'p', 'w', 'y', 'g', 'f', 'u', 'm', 'c', 'd', 'l', 'h',\n",
       "       'r', 'n', 's', 'o', 'i', 'a', 't', 'e', ' '], dtype=object)"
      ]
     },
     "execution_count": 50,
     "metadata": {},
     "output_type": "execute_result"
    }
   ],
   "source": [
    "char_df['char'].values"
   ]
  },
  {
   "cell_type": "code",
   "execution_count": 51,
   "id": "ce8eae2f",
   "metadata": {},
   "outputs": [],
   "source": [
    "from sklearn.feature_extraction.text import CountVectorizer"
   ]
  },
  {
   "cell_type": "code",
   "execution_count": 52,
   "id": "ee17f1e8",
   "metadata": {},
   "outputs": [],
   "source": [
    "def top_ngrams(corpus, n=None):\n",
    "    vec = CountVectorizer(ngram_range=(2, 2), stop_words='english').fit(corpus)\n",
    "    bow = vec.transform(corpus)\n",
    "    sum = bow.sum(axis=0)\n",
    "    word_freq = [(word, sum[0, idx]) for word, idx in vec.vocabulary_.items()]\n",
    "    word_freq = sorted(word_freq, key=lambda x: x[1], reverse=True)\n",
    "    return word_freq[:n]"
   ]
  },
  {
   "cell_type": "code",
   "execution_count": 53,
   "id": "940b2e9a",
   "metadata": {},
   "outputs": [],
   "source": [
    "top_10_bi = top_ngrams(df['text'], 10)"
   ]
  },
  {
   "cell_type": "code",
   "execution_count": 54,
   "id": "a03de086",
   "metadata": {},
   "outputs": [],
   "source": [
    "top_10_bi_df = pd.DataFrame(top_10_bi, columns=['bi', 'count'])"
   ]
  },
  {
   "cell_type": "code",
   "execution_count": 55,
   "id": "927797cb",
   "metadata": {},
   "outputs": [
    {
     "data": {
      "text/plain": [
       "<Axes: xlabel='count', ylabel='bi'>"
      ]
     },
     "execution_count": 55,
     "metadata": {},
     "output_type": "execute_result"
    },
    {
     "data": {
      "image/png": "[encoded data removed]",
      "text/plain": [
       "<Figure size 640x480 with 1 Axes>"
      ]
     },
     "metadata": {},
     "output_type": "display_data"
    }
   ],
   "source": [
    "sns.barplot(data=top_10_bi_df, x='count', y='bi')"
   ]
  },
  {
   "cell_type": "code",
   "execution_count": 56,
   "id": "c869d4ab",
   "metadata": {},
   "outputs": [],
   "source": [
    "import re"
   ]
  },
  {
   "cell_type": "code",
   "execution_count": 57,
   "id": "6dfde4a4",
   "metadata": {},
   "outputs": [],
   "source": [
    "df['text'] = df['text'].apply(lambda x: re.sub(r'[^A-Za-z\\s]', '', str(x)))"
   ]
  },
  {
   "cell_type": "code",
   "execution_count": 58,
   "id": "abe809ca",
   "metadata": {},
   "outputs": [
    {
     "data": {
      "text/html": [
       "<div>\n",
       "<style scoped>\n",
       "    .dataframe tbody tr th:only-of-type {\n",
       "        vertical-align: middle;\n",
       "    }\n",
       "\n",
       "    .dataframe tbody tr th {\n",
       "        vertical-align: top;\n",
       "    }\n",
       "\n",
       "    .dataframe thead th {\n",
       "        text-align: right;\n",
       "    }\n",
       "</style>\n",
       "<table border=\"1\" class=\"dataframe\">\n",
       "  <thead>\n",
       "    <tr style=\"text-align: right;\">\n",
       "      <th></th>\n",
       "      <th>text</th>\n",
       "      <th>label</th>\n",
       "      <th>count</th>\n",
       "      <th>num_stop</th>\n",
       "      <th>chars</th>\n",
       "    </tr>\n",
       "  </thead>\n",
       "  <tbody>\n",
       "    <tr>\n",
       "      <th>0</th>\n",
       "      <td>i grew up b  watching and loving the thunderbi...</td>\n",
       "      <td>0</td>\n",
       "      <td>151</td>\n",
       "      <td>64</td>\n",
       "      <td>874</td>\n",
       "    </tr>\n",
       "    <tr>\n",
       "      <th>1</th>\n",
       "      <td>when i put this movie in my dvd player and sat...</td>\n",
       "      <td>0</td>\n",
       "      <td>324</td>\n",
       "      <td>166</td>\n",
       "      <td>1791</td>\n",
       "    </tr>\n",
       "    <tr>\n",
       "      <th>2</th>\n",
       "      <td>why do people who do not know what a particula...</td>\n",
       "      <td>0</td>\n",
       "      <td>184</td>\n",
       "      <td>87</td>\n",
       "      <td>983</td>\n",
       "    </tr>\n",
       "    <tr>\n",
       "      <th>3</th>\n",
       "      <td>even though i have great interest in biblical ...</td>\n",
       "      <td>0</td>\n",
       "      <td>69</td>\n",
       "      <td>36</td>\n",
       "      <td>351</td>\n",
       "    </tr>\n",
       "    <tr>\n",
       "      <th>4</th>\n",
       "      <td>im a die hard dads army fan and nothing will e...</td>\n",
       "      <td>1</td>\n",
       "      <td>173</td>\n",
       "      <td>71</td>\n",
       "      <td>953</td>\n",
       "    </tr>\n",
       "  </tbody>\n",
       "</table>\n",
       "</div>"
      ],
      "text/plain": [
       "                                                text  label  count  num_stop  \\\n",
       "0  i grew up b  watching and loving the thunderbi...      0    151        64   \n",
       "1  when i put this movie in my dvd player and sat...      0    324       166   \n",
       "2  why do people who do not know what a particula...      0    184        87   \n",
       "3  even though i have great interest in biblical ...      0     69        36   \n",
       "4  im a die hard dads army fan and nothing will e...      1    173        71   \n",
       "\n",
       "   chars  \n",
       "0    874  \n",
       "1   1791  \n",
       "2    983  \n",
       "3    351  \n",
       "4    953  "
      ]
     },
     "execution_count": 58,
     "metadata": {},
     "output_type": "execute_result"
    }
   ],
   "source": [
    "df.head()"
   ]
  },
  {
   "cell_type": "code",
   "execution_count": 59,
   "id": "81ddf117",
   "metadata": {},
   "outputs": [],
   "source": [
    "df['text'] = df['text'].str.replace('\\t', ' ', regex=True)"
   ]
  },
  {
   "cell_type": "code",
   "execution_count": 60,
   "id": "4b6bd13c",
   "metadata": {},
   "outputs": [],
   "source": [
    "all_text = ' '.join(df['text'])"
   ]
  },
  {
   "cell_type": "code",
   "execution_count": 61,
   "id": "c6f9ca19",
   "metadata": {},
   "outputs": [],
   "source": [
    "char_freq = Counter(all_text)"
   ]
  },
  {
   "cell_type": "code",
   "execution_count": 62,
   "id": "157e0671",
   "metadata": {},
   "outputs": [],
   "source": [
    "char_df = pd.DataFrame(char_freq.items(), columns=['char', 'freq']).sort_values(by='freq')"
   ]
  },
  {
   "cell_type": "code",
   "execution_count": 63,
   "id": "f07ee70f",
   "metadata": {},
   "outputs": [
    {
     "data": {
      "text/html": [
       "<div>\n",
       "<style scoped>\n",
       "    .dataframe tbody tr th:only-of-type {\n",
       "        vertical-align: middle;\n",
       "    }\n",
       "\n",
       "    .dataframe tbody tr th {\n",
       "        vertical-align: top;\n",
       "    }\n",
       "\n",
       "    .dataframe thead th {\n",
       "        text-align: right;\n",
       "    }\n",
       "</style>\n",
       "<table border=\"1\" class=\"dataframe\">\n",
       "  <thead>\n",
       "    <tr style=\"text-align: right;\">\n",
       "      <th></th>\n",
       "      <th>char</th>\n",
       "      <th>freq</th>\n",
       "    </tr>\n",
       "  </thead>\n",
       "  <tbody>\n",
       "    <tr>\n",
       "      <th>28</th>\n",
       "      <td></td>\n",
       "      <td>44</td>\n",
       "    </tr>\n",
       "    <tr>\n",
       "      <th>27</th>\n",
       "      <td></td>\n",
       "      <td>1127</td>\n",
       "    </tr>\n",
       "    <tr>\n",
       "      <th>25</th>\n",
       "      <td>q</td>\n",
       "      <td>31653</td>\n",
       "    </tr>\n",
       "    <tr>\n",
       "      <th>26</th>\n",
       "      <td>z</td>\n",
       "      <td>35546</td>\n",
       "    </tr>\n",
       "    <tr>\n",
       "      <th>24</th>\n",
       "      <td>x</td>\n",
       "      <td>67857</td>\n",
       "    </tr>\n",
       "    <tr>\n",
       "      <th>23</th>\n",
       "      <td>j</td>\n",
       "      <td>91775</td>\n",
       "    </tr>\n",
       "    <tr>\n",
       "      <th>22</th>\n",
       "      <td>k</td>\n",
       "      <td>351777</td>\n",
       "    </tr>\n",
       "    <tr>\n",
       "      <th>17</th>\n",
       "      <td>v</td>\n",
       "      <td>512538</td>\n",
       "    </tr>\n",
       "    <tr>\n",
       "      <th>8</th>\n",
       "      <td>b</td>\n",
       "      <td>646139</td>\n",
       "    </tr>\n",
       "    <tr>\n",
       "      <th>7</th>\n",
       "      <td>p</td>\n",
       "      <td>691650</td>\n",
       "    </tr>\n",
       "    <tr>\n",
       "      <th>5</th>\n",
       "      <td>w</td>\n",
       "      <td>795333</td>\n",
       "    </tr>\n",
       "    <tr>\n",
       "      <th>20</th>\n",
       "      <td>y</td>\n",
       "      <td>833902</td>\n",
       "    </tr>\n",
       "    <tr>\n",
       "      <th>2</th>\n",
       "      <td>g</td>\n",
       "      <td>841699</td>\n",
       "    </tr>\n",
       "    <tr>\n",
       "      <th>21</th>\n",
       "      <td>f</td>\n",
       "      <td>896108</td>\n",
       "    </tr>\n",
       "    <tr>\n",
       "      <th>6</th>\n",
       "      <td>u</td>\n",
       "      <td>1079232</td>\n",
       "    </tr>\n",
       "    <tr>\n",
       "      <th>19</th>\n",
       "      <td>m</td>\n",
       "      <td>1109555</td>\n",
       "    </tr>\n",
       "    <tr>\n",
       "      <th>11</th>\n",
       "      <td>c</td>\n",
       "      <td>1130576</td>\n",
       "    </tr>\n",
       "    <tr>\n",
       "      <th>14</th>\n",
       "      <td>d</td>\n",
       "      <td>1417952</td>\n",
       "    </tr>\n",
       "    <tr>\n",
       "      <th>15</th>\n",
       "      <td>l</td>\n",
       "      <td>1782325</td>\n",
       "    </tr>\n",
       "    <tr>\n",
       "      <th>12</th>\n",
       "      <td>h</td>\n",
       "      <td>2200436</td>\n",
       "    </tr>\n",
       "    <tr>\n",
       "      <th>3</th>\n",
       "      <td>r</td>\n",
       "      <td>2263231</td>\n",
       "    </tr>\n",
       "    <tr>\n",
       "      <th>13</th>\n",
       "      <td>n</td>\n",
       "      <td>2667652</td>\n",
       "    </tr>\n",
       "    <tr>\n",
       "      <th>18</th>\n",
       "      <td>s</td>\n",
       "      <td>2740480</td>\n",
       "    </tr>\n",
       "    <tr>\n",
       "      <th>16</th>\n",
       "      <td>o</td>\n",
       "      <td>3015256</td>\n",
       "    </tr>\n",
       "    <tr>\n",
       "      <th>0</th>\n",
       "      <td>i</td>\n",
       "      <td>3100695</td>\n",
       "    </tr>\n",
       "    <tr>\n",
       "      <th>9</th>\n",
       "      <td>a</td>\n",
       "      <td>3253326</td>\n",
       "    </tr>\n",
       "    <tr>\n",
       "      <th>10</th>\n",
       "      <td>t</td>\n",
       "      <td>3786387</td>\n",
       "    </tr>\n",
       "    <tr>\n",
       "      <th>4</th>\n",
       "      <td>e</td>\n",
       "      <td>4827035</td>\n",
       "    </tr>\n",
       "    <tr>\n",
       "      <th>1</th>\n",
       "      <td></td>\n",
       "      <td>9148810</td>\n",
       "    </tr>\n",
       "  </tbody>\n",
       "</table>\n",
       "</div>"
      ],
      "text/plain": [
       "   char     freq\n",
       "28            44\n",
       "27    \n",
       "     1127\n",
       "25    q    31653\n",
       "26    z    35546\n",
       "24    x    67857\n",
       "23    j    91775\n",
       "22    k   351777\n",
       "17    v   512538\n",
       "8     b   646139\n",
       "7     p   691650\n",
       "5     w   795333\n",
       "20    y   833902\n",
       "2     g   841699\n",
       "21    f   896108\n",
       "6     u  1079232\n",
       "19    m  1109555\n",
       "11    c  1130576\n",
       "14    d  1417952\n",
       "15    l  1782325\n",
       "12    h  2200436\n",
       "3     r  2263231\n",
       "13    n  2667652\n",
       "18    s  2740480\n",
       "16    o  3015256\n",
       "0     i  3100695\n",
       "9     a  3253326\n",
       "10    t  3786387\n",
       "4     e  4827035\n",
       "1        9148810"
      ]
     },
     "execution_count": 63,
     "metadata": {},
     "output_type": "execute_result"
    }
   ],
   "source": [
    "char_df"
   ]
  },
  {
   "cell_type": "code",
   "execution_count": 64,
   "id": "87c27bbe",
   "metadata": {},
   "outputs": [],
   "source": [
    "stop_words = set(stopwords.words('english')) - {'not', 'but', 'however', 'no', 'yet'}"
   ]
  },
  {
   "cell_type": "code",
   "execution_count": 65,
   "id": "8e6937b3",
   "metadata": {},
   "outputs": [],
   "source": [
    "df['text'] = df['text'].apply(lambda x: ' '.join([word for word in x.split() if word.lower() not in stop_words]))"
   ]
  },
  {
   "cell_type": "code",
   "execution_count": 66,
   "id": "b8b3f79f",
   "metadata": {},
   "outputs": [
    {
     "data": {
      "text/html": [
       "<div>\n",
       "<style scoped>\n",
       "    .dataframe tbody tr th:only-of-type {\n",
       "        vertical-align: middle;\n",
       "    }\n",
       "\n",
       "    .dataframe tbody tr th {\n",
       "        vertical-align: top;\n",
       "    }\n",
       "\n",
       "    .dataframe thead th {\n",
       "        text-align: right;\n",
       "    }\n",
       "</style>\n",
       "<table border=\"1\" class=\"dataframe\">\n",
       "  <thead>\n",
       "    <tr style=\"text-align: right;\">\n",
       "      <th></th>\n",
       "      <th>text</th>\n",
       "      <th>label</th>\n",
       "      <th>count</th>\n",
       "      <th>num_stop</th>\n",
       "      <th>chars</th>\n",
       "    </tr>\n",
       "  </thead>\n",
       "  <tbody>\n",
       "    <tr>\n",
       "      <th>0</th>\n",
       "      <td>grew b watching loving thunderbirds mates scho...</td>\n",
       "      <td>0</td>\n",
       "      <td>151</td>\n",
       "      <td>64</td>\n",
       "      <td>874</td>\n",
       "    </tr>\n",
       "    <tr>\n",
       "      <th>1</th>\n",
       "      <td>put movie dvd player sat coke chips expectatio...</td>\n",
       "      <td>0</td>\n",
       "      <td>324</td>\n",
       "      <td>166</td>\n",
       "      <td>1791</td>\n",
       "    </tr>\n",
       "    <tr>\n",
       "      <th>2</th>\n",
       "      <td>people not know particular time past like feel...</td>\n",
       "      <td>0</td>\n",
       "      <td>184</td>\n",
       "      <td>87</td>\n",
       "      <td>983</td>\n",
       "    </tr>\n",
       "    <tr>\n",
       "      <th>3</th>\n",
       "      <td>even though great interest biblical movies bor...</td>\n",
       "      <td>0</td>\n",
       "      <td>69</td>\n",
       "      <td>36</td>\n",
       "      <td>351</td>\n",
       "    </tr>\n",
       "    <tr>\n",
       "      <th>4</th>\n",
       "      <td>im die hard dads army fan nothing ever change ...</td>\n",
       "      <td>1</td>\n",
       "      <td>173</td>\n",
       "      <td>71</td>\n",
       "      <td>953</td>\n",
       "    </tr>\n",
       "  </tbody>\n",
       "</table>\n",
       "</div>"
      ],
      "text/plain": [
       "                                                text  label  count  num_stop  \\\n",
       "0  grew b watching loving thunderbirds mates scho...      0    151        64   \n",
       "1  put movie dvd player sat coke chips expectatio...      0    324       166   \n",
       "2  people not know particular time past like feel...      0    184        87   \n",
       "3  even though great interest biblical movies bor...      0     69        36   \n",
       "4  im die hard dads army fan nothing ever change ...      1    173        71   \n",
       "\n",
       "   chars  \n",
       "0    874  \n",
       "1   1791  \n",
       "2    983  \n",
       "3    351  \n",
       "4    953  "
      ]
     },
     "execution_count": 66,
     "metadata": {},
     "output_type": "execute_result"
    }
   ],
   "source": [
    "df.head()"
   ]
  },
  {
   "cell_type": "code",
   "execution_count": 67,
   "id": "734356f1",
   "metadata": {},
   "outputs": [],
   "source": [
    "from nltk.stem import WordNetLemmatizer"
   ]
  },
  {
   "cell_type": "code",
   "execution_count": 68,
   "id": "da9493f2",
   "metadata": {},
   "outputs": [],
   "source": [
    "lemmatizer = WordNetLemmatizer()"
   ]
  },
  {
   "cell_type": "code",
   "execution_count": 69,
   "id": "d1621dfe",
   "metadata": {},
   "outputs": [
    {
     "data": {
      "text/plain": [
       "'mouse'"
      ]
     },
     "execution_count": 69,
     "metadata": {},
     "output_type": "execute_result"
    }
   ],
   "source": [
    "lemmatizer.lemmatize('mice')"
   ]
  },
  {
   "cell_type": "code",
   "execution_count": 70,
   "id": "2e7cb676",
   "metadata": {},
   "outputs": [],
   "source": [
    "df['text'] = df['text'].apply(lambda x: ' '.join([lemmatizer.lemmatize(word) for word in x.split()]))"
   ]
  },
  {
   "cell_type": "code",
   "execution_count": 71,
   "id": "2adb7d3f",
   "metadata": {},
   "outputs": [
    {
     "data": {
      "text/html": [
       "<div>\n",
       "<style scoped>\n",
       "    .dataframe tbody tr th:only-of-type {\n",
       "        vertical-align: middle;\n",
       "    }\n",
       "\n",
       "    .dataframe tbody tr th {\n",
       "        vertical-align: top;\n",
       "    }\n",
       "\n",
       "    .dataframe thead th {\n",
       "        text-align: right;\n",
       "    }\n",
       "</style>\n",
       "<table border=\"1\" class=\"dataframe\">\n",
       "  <thead>\n",
       "    <tr style=\"text-align: right;\">\n",
       "      <th></th>\n",
       "      <th>text</th>\n",
       "      <th>label</th>\n",
       "      <th>count</th>\n",
       "      <th>num_stop</th>\n",
       "      <th>chars</th>\n",
       "    </tr>\n",
       "  </thead>\n",
       "  <tbody>\n",
       "    <tr>\n",
       "      <th>0</th>\n",
       "      <td>grew b watching loving thunderbird mate school...</td>\n",
       "      <td>0</td>\n",
       "      <td>151</td>\n",
       "      <td>64</td>\n",
       "      <td>874</td>\n",
       "    </tr>\n",
       "    <tr>\n",
       "      <th>1</th>\n",
       "      <td>put movie dvd player sat coke chip expectation...</td>\n",
       "      <td>0</td>\n",
       "      <td>324</td>\n",
       "      <td>166</td>\n",
       "      <td>1791</td>\n",
       "    </tr>\n",
       "    <tr>\n",
       "      <th>2</th>\n",
       "      <td>people not know particular time past like feel...</td>\n",
       "      <td>0</td>\n",
       "      <td>184</td>\n",
       "      <td>87</td>\n",
       "      <td>983</td>\n",
       "    </tr>\n",
       "    <tr>\n",
       "      <th>3</th>\n",
       "      <td>even though great interest biblical movie bore...</td>\n",
       "      <td>0</td>\n",
       "      <td>69</td>\n",
       "      <td>36</td>\n",
       "      <td>351</td>\n",
       "    </tr>\n",
       "    <tr>\n",
       "      <th>4</th>\n",
       "      <td>im die hard dad army fan nothing ever change g...</td>\n",
       "      <td>1</td>\n",
       "      <td>173</td>\n",
       "      <td>71</td>\n",
       "      <td>953</td>\n",
       "    </tr>\n",
       "  </tbody>\n",
       "</table>\n",
       "</div>"
      ],
      "text/plain": [
       "                                                text  label  count  num_stop  \\\n",
       "0  grew b watching loving thunderbird mate school...      0    151        64   \n",
       "1  put movie dvd player sat coke chip expectation...      0    324       166   \n",
       "2  people not know particular time past like feel...      0    184        87   \n",
       "3  even though great interest biblical movie bore...      0     69        36   \n",
       "4  im die hard dad army fan nothing ever change g...      1    173        71   \n",
       "\n",
       "   chars  \n",
       "0    874  \n",
       "1   1791  \n",
       "2    983  \n",
       "3    351  \n",
       "4    953  "
      ]
     },
     "execution_count": 71,
     "metadata": {},
     "output_type": "execute_result"
    }
   ],
   "source": [
    "df.head()"
   ]
  },
  {
   "cell_type": "code",
   "execution_count": 72,
   "id": "b3941981",
   "metadata": {},
   "outputs": [],
   "source": [
    "from wordcloud import WordCloud"
   ]
  },
  {
   "cell_type": "code",
   "execution_count": 73,
   "id": "ce33bf79",
   "metadata": {},
   "outputs": [
    {
     "data": {
      "image/png": "[encoded data removed]",
      "text/plain": [
       "<Figure size 640x480 with 1 Axes>"
      ]
     },
     "metadata": {},
     "output_type": "display_data"
    }
   ],
   "source": [
    "def plot_wc(text):\n",
    "    wordcloud = WordCloud(background_color='white').generate(' '.join(text))\n",
    "    plt.imshow(wordcloud)\n",
    "    plt.show()\n",
    "\n",
    "plot_wc(df['text'])"
   ]
  },
  {
   "cell_type": "code",
   "execution_count": 74,
   "id": "60c5a593",
   "metadata": {},
   "outputs": [],
   "source": [
    "def plot_top_n_label(df, n=10, start=0):\n",
    "    word_label_count = {}\n",
    "\n",
    "    # Count word frequencies per label\n",
    "    for idx, row in df.iterrows():\n",
    "        words = row['text'].split()\n",
    "        category = row['label']\n",
    "        for word in words:\n",
    "            if word not in word_label_count:\n",
    "                word_label_count[word] = {0: 0, 1: 0}\n",
    "            word_label_count[word][category] += 1\n",
    "\n",
    "    # Total counts\n",
    "    total_word_count = {word: sum(counts.values()) for word, counts in word_label_count.items()}\n",
    "\n",
    "    # Sort and slice\n",
    "    most_common_words = sorted(total_word_count.items(), key=lambda x: x[1], reverse=True)\n",
    "    top_words = [word for word, _ in most_common_words[start:start + n]]\n",
    "\n",
    "    # Counts per label\n",
    "    negative_counts = [word_label_count[word][0] for word in top_words]\n",
    "    positive_counts = [word_label_count[word][1] for word in top_words]\n",
    "\n",
    "    # Plot stacked horizontal bars\n",
    "    plt.barh(top_words, negative_counts, color='red', label='Negative')\n",
    "    plt.barh(top_words, positive_counts, left=negative_counts, color='green', label='Positive')\n",
    "\n",
    "    plt.xlabel(\"Count\")\n",
    "    plt.ylabel(\"Word\")\n",
    "    plt.legend()\n",
    "    plt.gca().invert_yaxis()  # so top word appears at the top\n",
    "    plt.show()\n"
   ]
  },
  {
   "cell_type": "code",
   "execution_count": 75,
   "id": "71e79c27",
   "metadata": {},
   "outputs": [
    {
     "data": {
      "image/png": "[encoded data removed]",
      "text/plain": [
       "<Figure size 640x480 with 1 Axes>"
      ]
     },
     "metadata": {},
     "output_type": "display_data"
    }
   ],
   "source": [
    "plot_top_n_label(df)"
   ]
  },
  {
   "cell_type": "code",
   "execution_count": 76,
   "id": "2c94d959",
   "metadata": {},
   "outputs": [],
   "source": [
    "import mlflow"
   ]
  },
  {
   "cell_type": "code",
   "execution_count": 77,
   "id": "120eb45d",
   "metadata": {},
   "outputs": [
    {
     "name": "stdout",
     "output_type": "stream",
     "text": [
      "🏃 View run gaudy-tern-638 at: http://ec2-13-61-146-35.eu-north-1.compute.amazonaws.com:5000/#/experiments/0/runs/42ec0f3db4214ff6afe25e3144584b4a\n",
      "🧪 View experiment at: http://ec2-13-61-146-35.eu-north-1.compute.amazonaws.com:5000/#/experiments/0\n"
     ]
    }
   ],
   "source": [
    "mlflow.set_tracking_uri(\"http://ec2-13-61-146-35.eu-north-1.compute.amazonaws.com:5000/\")\n",
    "\n",
    "with mlflow.start_run():\n",
    "    mlflow.log_param(\"param1\", 15)\n",
    "    mlflow.log_metric(\"metric1\", 0.89)"
   ]
  },
  {
   "cell_type": "markdown",
   "id": "3000cd3e",
   "metadata": {},
   "source": [
    "# Baseline Model"
   ]
  },
  {
   "cell_type": "code",
   "execution_count": 78,
   "id": "694ab4be",
   "metadata": {},
   "outputs": [],
   "source": [
    "import mlflow.sklearn"
   ]
  },
  {
   "cell_type": "code",
   "execution_count": 79,
   "id": "260051b8",
   "metadata": {},
   "outputs": [],
   "source": [
    "from sklearn.ensemble import RandomForestClassifier\n",
    "from sklearn.feature_extraction.text import CountVectorizer\n",
    "from sklearn.model_selection import train_test_split, cross_val_predict, StratifiedKFold\n",
    "from sklearn.metrics import accuracy_score, classification_report, confusion_matrix"
   ]
  },
  {
   "cell_type": "code",
   "execution_count": 81,
   "id": "9e5d0e8b",
   "metadata": {},
   "outputs": [],
   "source": [
    "vectorizer = CountVectorizer(max_features= 10000)"
   ]
  },
  {
   "cell_type": "code",
   "execution_count": 83,
   "id": "c002a73c",
   "metadata": {},
   "outputs": [],
   "source": [
    "x = vectorizer.fit_transform(df['text']).toarray()"
   ]
  },
  {
   "cell_type": "code",
   "execution_count": 84,
   "id": "0988c4b1",
   "metadata": {},
   "outputs": [],
   "source": [
    "y = df['label']"
   ]
  },
  {
   "cell_type": "code",
   "execution_count": 86,
   "id": "0f821ab5",
   "metadata": {},
   "outputs": [
    {
     "data": {
      "text/plain": [
       "array([[0, 0, 0, ..., 0, 0, 0],\n",
       "       [0, 0, 0, ..., 0, 0, 0],\n",
       "       [0, 0, 0, ..., 0, 0, 0],\n",
       "       ...,\n",
       "       [0, 0, 0, ..., 0, 0, 0],\n",
       "       [0, 0, 0, ..., 0, 0, 0],\n",
       "       [0, 0, 0, ..., 0, 0, 0]], shape=(39574, 10000))"
      ]
     },
     "execution_count": 86,
     "metadata": {},
     "output_type": "execute_result"
    }
   ],
   "source": [
    "x"
   ]
  },
  {
   "cell_type": "code",
   "execution_count": 87,
   "id": "c56e127f",
   "metadata": {},
   "outputs": [
    {
     "data": {
      "text/plain": [
       "(39574, 10000)"
      ]
     },
     "execution_count": 87,
     "metadata": {},
     "output_type": "execute_result"
    }
   ],
   "source": [
    "x.shape"
   ]
  },
  {
   "cell_type": "code",
   "execution_count": 88,
   "id": "9ef8d28f",
   "metadata": {},
   "outputs": [
    {
     "data": {
      "text/plain": [
       "0    0\n",
       "1    0\n",
       "2    0\n",
       "3    0\n",
       "4    1\n",
       "Name: label, dtype: int64"
      ]
     },
     "execution_count": 88,
     "metadata": {},
     "output_type": "execute_result"
    }
   ],
   "source": [
    "y.head()"
   ]
  },
  {
   "cell_type": "code",
   "execution_count": 89,
   "id": "af81249a",
   "metadata": {},
   "outputs": [
    {
     "data": {
      "text/plain": [
       "(39574,)"
      ]
     },
     "execution_count": 89,
     "metadata": {},
     "output_type": "execute_result"
    }
   ],
   "source": [
    "y.shape"
   ]
  },
  {
   "cell_type": "code",
   "execution_count": 90,
   "id": "2dc19b2c",
   "metadata": {},
   "outputs": [],
   "source": [
    "mlflow.set_tracking_uri(\"http://ec2-13-61-146-35.eu-north-1.compute.amazonaws.com:5000/\")"
   ]
  },
  {
   "cell_type": "code",
   "execution_count": 91,
   "id": "7c9888ab",
   "metadata": {},
   "outputs": [
    {
     "name": "stderr",
     "output_type": "stream",
     "text": [
      "2025/08/16 22:02:58 INFO mlflow.tracking.fluent: Experiment with name 'RF_Baseline' does not exist. Creating a new experiment.\n"
     ]
    },
    {
     "data": {
      "text/plain": [
       "<Experiment: artifact_location='s3://my-mlflow-bucket-123/492739231133055017', creation_time=1755361985898, experiment_id='492739231133055017', last_update_time=1755361985898, lifecycle_stage='active', name='RF_Baseline', tags={}>"
      ]
     },
     "execution_count": 91,
     "metadata": {},
     "output_type": "execute_result"
    }
   ],
   "source": [
    "mlflow.set_experiment(\"RF_Baseline\")"
   ]
  },
  {
   "cell_type": "code",
   "execution_count": 93,
   "id": "43227ddf",
   "metadata": {},
   "outputs": [],
   "source": [
    "x_train, x_test, y_train, y_test = train_test_split(x, y, test_size=0.2, random_state=42, stratify=y)"
   ]
  },
  {
   "cell_type": "code",
   "execution_count": 97,
   "id": "da501d7f",
   "metadata": {},
   "outputs": [
    {
     "name": "stderr",
     "output_type": "stream",
     "text": [
      "2025/08/16 22:48:05 WARNING mlflow.models.model: `artifact_path` is deprecated. Please use `name` instead.\n",
      "2025/08/16 22:48:24 WARNING mlflow.models.model: Model logged without a signature and input example. Please set `input_example` parameter when logging the model to auto infer the model signature.\n"
     ]
    },
    {
     "name": "stdout",
     "output_type": "stream",
     "text": [
      "🏃 View run RF_Base_Split at: http://ec2-13-61-146-35.eu-north-1.compute.amazonaws.com:5000/#/experiments/492739231133055017/runs/19eb96f0b99b49a6afc54cc3bc15f889\n",
      "🧪 View experiment at: http://ec2-13-61-146-35.eu-north-1.compute.amazonaws.com:5000/#/experiments/492739231133055017\n",
      "AccuracyL 0.8376500315855969\n"
     ]
    },
    {
     "data": {
      "image/png": "[encoded data removed]",
      "text/plain": [
       "<Figure size 640x480 with 2 Axes>"
      ]
     },
     "metadata": {},
     "output_type": "display_data"
    }
   ],
   "source": [
    "with mlflow.start_run() as run:\n",
    "    mlflow.set_tag(\"mlflow.runName\", \"RF_Base_Split\")\n",
    "    mlflow.set_tag(\"experiment_type\", \"Base\")\n",
    "    mlflow.set_tag(\"model_type\", \"RandomForestClassifier\")\n",
    "\n",
    "    mlflow.set_tag(\"description\", \"Baseline RF model for sentiment analysis using BoW\")\n",
    "\n",
    "    mlflow.log_param(\"vectorizer_type\", \"CountVectorizer\")\n",
    "    mlflow.log_param(\"vectorizer_max_features\", vectorizer.max_features)\n",
    "\n",
    "    n_estimators = 200\n",
    "    max_depth = 15\n",
    "\n",
    "    mlflow.log_param(\"n_estimators\", n_estimators)\n",
    "    mlflow.log_param(\"max_depth\", max_depth)\n",
    "\n",
    "    model = RandomForestClassifier(n_estimators=n_estimators, max_depth=max_depth, random_state=42)\n",
    "    model.fit(x_train, y_train)\n",
    "\n",
    "    y_pred = model.predict(x_test)\n",
    "\n",
    "    accuracy = accuracy_score(y_test, y_pred)\n",
    "    mlflow.log_metric(\"accuracy\", accuracy)\n",
    "\n",
    "    classification_rep = classification_report(y_test, y_pred, output_dict=True)\n",
    "\n",
    "    for label, metrics in classification_rep.items():\n",
    "        if isinstance(metrics, dict):\n",
    "            for metric, value in metrics.items():\n",
    "                mlflow.log_metric(f\"{label}_{metric}\", value)\n",
    "\n",
    "    conf_matrix = confusion_matrix(y_test, y_pred)\n",
    "    sns.heatmap(conf_matrix, annot=True)\n",
    "\n",
    "    plt.savefig(\"confusion_matrix.png\")\n",
    "    mlflow.log_artifact(\"confusion_matrix.png\")\n",
    "\n",
    "    mlflow.sklearn.log_model(model, \"random_forest_model\")\n",
    "\n",
    "    df.to_csv(\"dataset.csv\", index=False)\n",
    "    mlflow.log_artifact(\"dataset.csv\")\n",
    "\n",
    "print(f\"AccuracyL {accuracy}\")"
   ]
  },
  {
   "cell_type": "code",
   "execution_count": 98,
   "id": "637c6d50",
   "metadata": {},
   "outputs": [
    {
     "name": "stdout",
     "output_type": "stream",
     "text": [
      "              precision    recall  f1-score   support\n",
      "\n",
      "           0       0.86      0.80      0.83      3950\n",
      "           1       0.82      0.87      0.84      3965\n",
      "\n",
      "    accuracy                           0.84      7915\n",
      "   macro avg       0.84      0.84      0.84      7915\n",
      "weighted avg       0.84      0.84      0.84      7915\n",
      "\n"
     ]
    }
   ],
   "source": [
    "print(classification_report(y_test, y_pred))"
   ]
  },
  {
   "cell_type": "code",
   "execution_count": 99,
   "id": "16c80fce",
   "metadata": {},
   "outputs": [
    {
     "name": "stderr",
     "output_type": "stream",
     "text": [
      "2025/08/17 00:34:33 INFO mlflow.tracking.fluent: Experiment with name 'BoW v/s TFIdf' does not exist. Creating a new experiment.\n"
     ]
    },
    {
     "data": {
      "text/plain": [
       "<Experiment: artifact_location='s3://my-mlflow-bucket-123/734492199182626374', creation_time=1755371081657, experiment_id='734492199182626374', last_update_time=1755371081657, lifecycle_stage='active', name='BoW v/s TFIdf', tags={}>"
      ]
     },
     "execution_count": 99,
     "metadata": {},
     "output_type": "execute_result"
    }
   ],
   "source": [
    "mlflow.set_experiment(\"BoW v/s TFIdf\")"
   ]
  },
  {
   "cell_type": "code",
   "execution_count": 101,
   "id": "d64d67bb",
   "metadata": {},
   "outputs": [],
   "source": [
    "from sklearn.feature_extraction.text import TfidfVectorizer\n",
    "import os"
   ]
  },
  {
   "cell_type": "code",
   "execution_count": 102,
   "id": "ecea2ac7",
   "metadata": {},
   "outputs": [],
   "source": [
    "df = pd.read_csv(\"dataset.csv\")"
   ]
  },
  {
   "cell_type": "code",
   "execution_count": 104,
   "id": "9698d101",
   "metadata": {},
   "outputs": [
    {
     "data": {
      "text/plain": [
       "(39574, 5)"
      ]
     },
     "execution_count": 104,
     "metadata": {},
     "output_type": "execute_result"
    }
   ],
   "source": [
    "df.shape"
   ]
  },
  {
   "cell_type": "code",
   "execution_count": 103,
   "id": "32b7f03f",
   "metadata": {},
   "outputs": [
    {
     "data": {
      "text/html": [
       "<div>\n",
       "<style scoped>\n",
       "    .dataframe tbody tr th:only-of-type {\n",
       "        vertical-align: middle;\n",
       "    }\n",
       "\n",
       "    .dataframe tbody tr th {\n",
       "        vertical-align: top;\n",
       "    }\n",
       "\n",
       "    .dataframe thead th {\n",
       "        text-align: right;\n",
       "    }\n",
       "</style>\n",
       "<table border=\"1\" class=\"dataframe\">\n",
       "  <thead>\n",
       "    <tr style=\"text-align: right;\">\n",
       "      <th></th>\n",
       "      <th>text</th>\n",
       "      <th>label</th>\n",
       "      <th>count</th>\n",
       "      <th>num_stop</th>\n",
       "      <th>chars</th>\n",
       "    </tr>\n",
       "  </thead>\n",
       "  <tbody>\n",
       "    <tr>\n",
       "      <th>0</th>\n",
       "      <td>grew b watching loving thunderbird mate school...</td>\n",
       "      <td>0</td>\n",
       "      <td>151</td>\n",
       "      <td>64</td>\n",
       "      <td>874</td>\n",
       "    </tr>\n",
       "    <tr>\n",
       "      <th>1</th>\n",
       "      <td>put movie dvd player sat coke chip expectation...</td>\n",
       "      <td>0</td>\n",
       "      <td>324</td>\n",
       "      <td>166</td>\n",
       "      <td>1791</td>\n",
       "    </tr>\n",
       "    <tr>\n",
       "      <th>2</th>\n",
       "      <td>people not know particular time past like feel...</td>\n",
       "      <td>0</td>\n",
       "      <td>184</td>\n",
       "      <td>87</td>\n",
       "      <td>983</td>\n",
       "    </tr>\n",
       "    <tr>\n",
       "      <th>3</th>\n",
       "      <td>even though great interest biblical movie bore...</td>\n",
       "      <td>0</td>\n",
       "      <td>69</td>\n",
       "      <td>36</td>\n",
       "      <td>351</td>\n",
       "    </tr>\n",
       "    <tr>\n",
       "      <th>4</th>\n",
       "      <td>im die hard dad army fan nothing ever change g...</td>\n",
       "      <td>1</td>\n",
       "      <td>173</td>\n",
       "      <td>71</td>\n",
       "      <td>953</td>\n",
       "    </tr>\n",
       "  </tbody>\n",
       "</table>\n",
       "</div>"
      ],
      "text/plain": [
       "                                                text  label  count  num_stop  \\\n",
       "0  grew b watching loving thunderbird mate school...      0    151        64   \n",
       "1  put movie dvd player sat coke chip expectation...      0    324       166   \n",
       "2  people not know particular time past like feel...      0    184        87   \n",
       "3  even though great interest biblical movie bore...      0     69        36   \n",
       "4  im die hard dad army fan nothing ever change g...      1    173        71   \n",
       "\n",
       "   chars  \n",
       "0    874  \n",
       "1   1791  \n",
       "2    983  \n",
       "3    351  \n",
       "4    953  "
      ]
     },
     "execution_count": 103,
     "metadata": {},
     "output_type": "execute_result"
    }
   ],
   "source": [
    "df.head()"
   ]
  },
  {
   "cell_type": "code",
   "execution_count": null,
   "id": "3922c7fc",
   "metadata": {},
   "outputs": [],
   "source": []
  }
 ],
 "metadata": {
  "kernelspec": {
   "display_name": "senti",
   "language": "python",
   "name": "senti"
  },
  "language_info": {
   "codemirror_mode": {
    "name": "ipython",
    "version": 3
   },
   "file_extension": ".py",
   "mimetype": "text/x-python",
   "name": "python",
   "nbconvert_exporter": "python",
   "pygments_lexer": "ipython3",
   "version": "3.12.4"
  }
 },
 "nbformat": 4,
 "nbformat_minor": 5
}
